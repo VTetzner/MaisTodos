{
 "cells": [
  {
   "cell_type": "markdown",
   "metadata": {
    "id": "vqTDNANjwzv4"
   },
   "source": [
    "# Bibliotecas"
   ]
  },
  {
   "cell_type": "code",
   "execution_count": 9,
   "metadata": {
    "id": "mjNeGRXlwvli",
    "scrolled": true
   },
   "outputs": [],
   "source": [
    "!pip install numpy\n",
    "!pip install pandas\n",
    "\n",
    "import pandas as pd\n",
    "import numpy as np\n",
    "from zipfile import ZipFile"
   ]
  },
  {
   "cell_type": "markdown",
   "metadata": {
    "id": "IMpZEt88xYpu"
   },
   "source": [
    "# Leitura de tabela"
   ]
  },
  {
   "cell_type": "code",
   "execution_count": 10,
   "metadata": {
    "id": "yYPGVw8Oxash"
   },
   "outputs": [],
   "source": [
    "with ZipFile('teste_tecnico.zip', 'r') as zipObj:\n",
    "   # Extract all the contents of zip file in current directory\n",
    "   zipObj.extractall()\n",
    "tabela = pd.read_csv('teste_tecnico.csv') #Inserir PATH do arquivo *.CSV"
   ]
  },
  {
   "cell_type": "code",
   "execution_count": 3,
   "metadata": {
    "id": "p-jZhwNpy-Za"
   },
   "outputs": [],
   "source": [
    "## Organiza a tabela por data de pagamento\n",
    "tabela_data_pagamento = tabela.sort_values('payment_date')\n",
    "tabela_data_pagamento.index = pd.RangeIndex(start=0, stop=len(tabela_data_pagamento), step=1)"
   ]
  },
  {
   "cell_type": "markdown",
   "metadata": {
    "id": "uXwSvL0yzkzk"
   },
   "source": [
    "# Problema 1\n",
    "\n",
    "Qual o dia de pagamento de melhor conversão (transações autorizadas X total)\n",
    "\n",
    "transações autorizadas: payment_authorized == 1\n",
    "\n",
    "total: soma do total do dia (contando não autorizados)"
   ]
  },
  {
   "cell_type": "code",
   "execution_count": 7,
   "metadata": {
    "id": "bQhZx9CHbao9"
   },
   "outputs": [],
   "source": [
    "## Transações autorizadas\n",
    "pagamento_autorizado = tabela_data_pagamento['payment_authorized']==1\n",
    "tabela_pagamento_autorizado = tabela_data_pagamento[pagamento_autorizado]\n",
    "tabela_pagamento_autorizado.index = pd.RangeIndex(start=0, stop=len(tabela_pagamento_autorizado), step=1)\n",
    "\n",
    "## Contagem de transações autorizados por dia\n",
    "cont_pagamento_autorizado = tabela_pagamento_autorizado['payment_date'].value_counts().to_frame(name='cont_pagamento_autorizado').sort_index()\n",
    "\n",
    "## Vetor dos dias na tabela\n",
    "dia = tabela_data_pagamento['payment_date'].unique()\n",
    "dia_df = pd.DataFrame(dia, columns=['dia'])\n",
    "\n",
    "## Iteração para somatoria do total de pagamento (autorizado + não autorizado)\n",
    "total_por_dia =[]\n",
    "\n",
    "for i in range(len(dia)):\n",
    "  soma = 0\n",
    "  ##print('Dia: ', i)\n",
    "\n",
    "  for j in range(len(tabela_data_pagamento)):\n",
    "    if tabela_data_pagamento['payment_date'][j] == dia[i]:\n",
    "      soma += tabela_data_pagamento['payment_amount'][j]\n",
    "\n",
    "    else:\n",
    "      pass\n",
    "  total_por_dia.append(soma)\n",
    "\n",
    "## Total diario\n",
    "total_dia_soma = pd.DataFrame(total_por_dia, columns=['total_diario'])\n",
    "\n",
    "## Junções de DataFrames\n",
    "df_dia_valorTotal = pd.concat([dia_df, total_dia_soma], axis=1).set_index('dia').sort_index()\n",
    "\n",
    "df_dia_valorTotal_autorizadas = pd.concat([df_dia_valorTotal, cont_pagamento_autorizado], axis=1)\n",
    "df_dia_valorTotal_autorizadas['conversao'] = df_dia_valorTotal_autorizadas['total_diario'] * df_dia_valorTotal_autorizadas['cont_pagamento_autorizado']\n",
    "df_dia_valorTotal_autorizadas = df_dia_valorTotal_autorizadas.sort_values('conversao', ascending=False)\n",
    "\n",
    "dia_max_conversao = df_dia_valorTotal_autorizadas.index[0]"
   ]
  },
  {
   "cell_type": "code",
   "execution_count": null,
   "metadata": {
    "colab": {
     "base_uri": "https://localhost:8080/"
    },
    "id": "2ooBE2Bfn6rn",
    "outputId": "98c0341f-266e-49e9-b33c-a5486e991501"
   },
   "outputs": [],
   "source": [
    "print('O dia de maior conversão foi: ', dia_max_conversao)"
   ]
  },
  {
   "cell_type": "markdown",
   "metadata": {
    "id": "QnkbUYcvgxsn"
   },
   "source": [
    "# Problema 2\n",
    "\n",
    "Qual foi a conversão desses meses? \n",
    "\n",
    "(% de assinaturas com transações autorizadas por periodos (mes))\n",
    "\n",
    "mes -> ciclo (12 ciclos)\n",
    "\n",
    "total -> tabela inteira\n",
    "\n",
    "autorizadas -> tabela pay_aut ==1"
   ]
  },
  {
   "cell_type": "code",
   "execution_count": null,
   "metadata": {
    "colab": {
     "base_uri": "https://localhost:8080/",
     "height": 457
    },
    "id": "kLe-Rv6wjRhy",
    "outputId": "b23bcbeb-942f-49ff-b4ba-864274cf184b",
    "scrolled": true
   },
   "outputs": [],
   "source": [
    "## Ciclos\n",
    "ciclos = tabela_data_pagamento['cycle_id'].unique()\n",
    "ciclos_df = pd.DataFrame(ciclos, columns=['Mes'])\n",
    "\n",
    "## Contagem de ciclos -- Todas as transações (autorizadas e não autorizadas)\n",
    "cont_ciclos_total = tabela_data_pagamento['cycle_id'].value_counts().to_frame(name='cont_ciclos_totais').sort_index()\n",
    "cont_ciclos_total.index = pd.RangeIndex(start=0, stop=len(cont_ciclos_total), step=1)\n",
    "\n",
    "## Contagem de ciclos -- Transações autorizadas\n",
    "cont_ciclos_autorizados = tabela_pagamento_autorizado['cycle_id'].value_counts().to_frame(name='cont_ciclos_autorizados').sort_index()\n",
    "cont_ciclos_autorizados.index = pd.RangeIndex(start=0, stop=len(cont_ciclos_autorizados), step=1)\n",
    "\n",
    "## Porcentagem\n",
    "ciclos_df['Conversao [%]'] = (cont_ciclos_autorizados['cont_ciclos_autorizados']/cont_ciclos_total['cont_ciclos_totais'])*100\n",
    "porcentagem_conversao_mes = ciclos_df.set_index(['Mes'])\n",
    "\n",
    "## Visualização\n",
    "print('Porcentagem de conversao por mes: ', porcentagem_conversao_mes)"
   ]
  },
  {
   "cell_type": "markdown",
   "metadata": {
    "id": "HCGD-q2OkxYf"
   },
   "source": [
    "# Problema 3\n",
    "\n",
    "Qual foi a arrecadacao de todas as retentativas(payment_attempt > 1) X periodo (Mes)\n",
    "\n",
    "Corrigido para pay_att > 1 (ou >0?)\n",
    "\n",
    "Utiliza **pagamentos autorizados**"
   ]
  },
  {
   "cell_type": "code",
   "execution_count": null,
   "metadata": {
    "colab": {
     "base_uri": "https://localhost:8080/",
     "height": 457
    },
    "id": "GMvNruu90iVe",
    "outputId": "fef98e90-9aaf-46a2-ccc6-9986f30e1e78"
   },
   "outputs": [],
   "source": [
    "## Tabela de retentativas\n",
    "tabela_retentativa = tabela_pagamento_autorizado[tabela_pagamento_autorizado.payment_attempt > 1]\n",
    "tabela_retentativa.index = pd.RangeIndex(start=0, stop=len(tabela_retentativa), step=1)\n",
    "\n",
    "## Tabela de meses\n",
    "mes_df = pd.DataFrame(ciclos, columns=['Mes'])\n",
    "\n",
    "## Iteração para somatoria do total de pagamento por mes de retentativas\n",
    "total_por_mes =[]\n",
    "\n",
    "for i in range(len(ciclos)):\n",
    "  soma = 0\n",
    "  for j in range(len(tabela_retentativa)):\n",
    "    if tabela_retentativa['cycle_id'][j] == ciclos[i]:\n",
    "      soma += tabela_retentativa['payment_amount'][j]\n",
    "    else:\n",
    "      pass\n",
    "  total_por_mes.append(soma)\n",
    "\n",
    "## Total mensal de retentativas\n",
    "total_mes_soma = pd.DataFrame(total_por_mes, columns=['Total_Mensal_Retentativas'])\n",
    "\n",
    "## Junções de DataFrames\n",
    "df_mes_valorTotal = pd.concat([mes_df, total_mes_soma], axis=1).set_index('Mes').sort_index()\n",
    "\n",
    "## Visualização\n",
    "print('Total mensal de retentativas por mes: ', df_mes_valorTotal)"
   ]
  },
  {
   "cell_type": "markdown",
   "metadata": {
    "id": "-oEaXXqgk2q9"
   },
   "source": [
    "# Problema 4\n",
    "\n",
    "Considerando as taxas: cielo com 0,05, a rede 0,065, adyen 0,123, pagseguro 0,04. Qual processadora é mais rentável para o sistema considerando valor arrecadado e pago"
   ]
  },
  {
   "cell_type": "code",
   "execution_count": null,
   "metadata": {
    "colab": {
     "base_uri": "https://localhost:8080/",
     "height": 279
    },
    "id": "O8LE7K71k38G",
    "outputId": "8406e473-53d2-4d21-eef5-c98d31585f58"
   },
   "outputs": [],
   "source": [
    "## Processadoras\n",
    "processadora = tabela_data_pagamento['payment_processor'].unique()\n",
    "processadora_df = pd.DataFrame(processadora, columns=['Processadora'])\n",
    "\n",
    "## Taxas\n",
    "taxas = {'rede': 0.065, 'pagseguro': 0.04, 'adyen': 0.123, 'cielo':0.05}\n",
    "\n",
    "## Iteração para somatoria do total de pagamento por operadora de pagamentos autorizados\n",
    "total_por_processadora =[]\n",
    "\n",
    "for i in range(len(processadora)):\n",
    "  soma = 0\n",
    "  for j in range(len(tabela_pagamento_autorizado)):\n",
    "    if tabela_pagamento_autorizado['payment_processor'][j] == processadora[i]:\n",
    "      soma += tabela_pagamento_autorizado['payment_amount'][j]\n",
    "    else:\n",
    "      pass\n",
    "  total_por_processadora.append(soma)\n",
    "\n",
    "df_total_por_processadora = pd.DataFrame(total_por_processadora, columns=['montante_por_processadora'])\n",
    "\n",
    "## Junções de DataFrames\n",
    "df_processadora_valorTotal = pd.concat([processadora_df, df_total_por_processadora], axis=1)  #.set_index('Operadoras').sort_index()\n",
    "df_processadora_valorTotal['taxa'] = df_processadora_valorTotal['Processadora'].map(taxas)  # Puxa a taxa do dicionário\n",
    "tabela_rentabilidade_por_taxa = df_processadora_valorTotal.set_index('Processadora').sort_index()\n",
    "\n",
    "## Rentabilidade da empresa em cima da taxa das operadoras, considerando os pagamentos autorizados\n",
    "tabela_rentabilidade_por_taxa['rentabilidade_empresa'] = tabela_rentabilidade_por_taxa['montante_por_processadora'] * (1 - tabela_rentabilidade_por_taxa['taxa'])\n",
    "\n",
    "## Organiza pela maior rentabilidade e devolve a processadora que é mais rentavel\n",
    "tabela_rentabilidade_por_taxa = tabela_rentabilidade_por_taxa.sort_values('rentabilidade_empresa', ascending=False)\n",
    "operadora_max_rentabilidade = tabela_rentabilidade_por_taxa.index[0]\n",
    "\n",
    "## Visualização\n",
    "print('Tabela de rentabilidade por taxa para cada processadora: ', tabela_rentabilidade_por_taxa)"
   ]
  },
  {
   "cell_type": "code",
   "execution_count": null,
   "metadata": {
    "colab": {
     "base_uri": "https://localhost:8080/"
    },
    "id": "WUwp1eMxGJMz",
    "outputId": "71faba41-a962-4f02-cada-af5bf0792998"
   },
   "outputs": [],
   "source": [
    "print('A processadora mais rentavel para o sistema considerando os pagamentos autorizados é: ', operadora_max_rentabilidade)"
   ]
  },
  {
   "cell_type": "markdown",
   "metadata": {
    "id": "bDHsbghIk71Q"
   },
   "source": [
    "# Problema 5\n",
    "\n",
    "Qual foi a retentativa(payment_attempt > 1) e processadora que mais converteram\n",
    "\n",
    "Maior conversao é da pagseguro (vide problema 4)\n",
    "\n",
    "Encontraremos qual é a retentativa agora que mais trouxe maior conversão\n",
    "\n",
    "**Aqui poderia ter sido programado uma função para entrada das tabelas, tenho apenas um código de loop, deixando o código mais limpo. O mesmo se aplica para trabalhar com dicionarios para a chama dos nomes das processadoras, e então reduzindo mais linhas e consequentemente tempo computacional**"
   ]
  },
  {
   "cell_type": "code",
   "execution_count": null,
   "metadata": {
    "id": "j4rM0V3dmKPh"
   },
   "outputs": [],
   "source": [
    "## Tabelas gerais\n",
    "tabela_retentativa_conversao = tabela_data_pagamento[tabela_data_pagamento.payment_attempt > 1]\n",
    "tabela_retentativa_conversao.index = pd.RangeIndex(start=0, stop=len(tabela_retentativa_conversao), step=1)\n",
    "\n",
    "retentativa_autorizada = tabela_retentativa_conversao['payment_authorized']==1\n",
    "tabela_retentativa_autorizado = tabela_retentativa_conversao[retentativa_autorizada]\n",
    "tabela_retentativa_autorizado.index = pd.RangeIndex(start=0, stop=len(tabela_retentativa_autorizado), step=1)"
   ]
  },
  {
   "cell_type": "code",
   "execution_count": null,
   "metadata": {
    "id": "MvUWtgZObJWN"
   },
   "outputs": [],
   "source": [
    "## Retentativas\n",
    "retentativas = tabela_retentativa_conversao['payment_attempt'].unique()\n",
    "retentativas_df = pd.DataFrame(retentativas, columns=['Retentativas'])\n",
    "retentativas_df.index = pd.RangeIndex(start=0, stop=len(retentativas_df), step=1)"
   ]
  },
  {
   "cell_type": "code",
   "execution_count": null,
   "metadata": {
    "id": "SUemNCtDt-bk"
   },
   "outputs": [],
   "source": [
    "######## PAGSEGURO\n",
    "\n",
    "## Tabela da pagseguro\n",
    "pagseguro = tabela_data_pagamento['payment_processor']=='pagseguro'\n",
    "tabela_pagseguro = tabela_data_pagamento[pagseguro]\n",
    "tabela_pagseguro_retentativa = tabela_pagseguro[tabela_pagseguro.payment_attempt > 1]\n",
    "tabela_pagseguro_retentativa.index = pd.RangeIndex(start=0, stop=len(tabela_pagseguro_retentativa), step=1)\n",
    "\n",
    "## Tabela da pagseguro com pagamentos autorizados\n",
    "pagseguro_autorizado = tabela_pagseguro_retentativa['payment_authorized']==1\n",
    "tabela_pagseguro_autorizado = tabela_pagseguro_retentativa[pagseguro_autorizado]\n",
    "tabela_pagseguro_autorizado.index = pd.RangeIndex(start=0, stop=len(tabela_pagseguro_autorizado), step=1)\n",
    "\n",
    "## Iteração para somatoria do total de pagamento por transação autorizado e NÃO autorizada, pela pagseguro, para cada retentativa\n",
    "total_ps_retentativa =[]\n",
    "\n",
    "for i in range(len(retentativas_df)):\n",
    "  soma = 0\n",
    "  for j in range(len(tabela_pagseguro_retentativa)):\n",
    "    if tabela_pagseguro_retentativa['payment_attempt'][j] == retentativas_df['Retentativas'][i]:\n",
    "      soma += tabela_pagseguro_retentativa['payment_amount'][j]\n",
    "    else:\n",
    "      pass\n",
    "  total_ps_retentativa.append(soma)\n",
    "ps_ret = pd.DataFrame(total_ps_retentativa, columns=['ps'])\n",
    "\n",
    "## Iteração para somatoria do total de pagamento por transação autorizado, pela pagseguro, para cada retentativa\n",
    "total_ps_autorizada_retentativa = []\n",
    "\n",
    "for i in range(len(retentativas_df)):\n",
    "  soma = 0\n",
    "  for j in range(len(tabela_pagseguro_autorizado)):\n",
    "    if tabela_pagseguro_autorizado['payment_attempt'][j] == retentativas_df['Retentativas'][i]:\n",
    "      soma += tabela_pagseguro_autorizado['payment_amount'][j]\n",
    "\n",
    "    else:\n",
    "      pass\n",
    "  total_ps_autorizada_retentativa.append(soma)\n",
    "ps_auto_ret = pd.DataFrame(total_ps_autorizada_retentativa, columns=['ps_autorizada'])"
   ]
  },
  {
   "cell_type": "code",
   "execution_count": null,
   "metadata": {
    "id": "GBVaBZZjuLjN"
   },
   "outputs": [],
   "source": [
    "######## REDE\n",
    "\n",
    "## Tabela da rede\n",
    "rede = tabela_data_pagamento['payment_processor']=='rede'\n",
    "tabela_rede = tabela_data_pagamento[rede]\n",
    "tabela_rede_retentativa = tabela_rede[tabela_rede.payment_attempt > 1]\n",
    "tabela_rede_retentativa.index = pd.RangeIndex(start=0, stop=len(tabela_rede_retentativa), step=1)\n",
    "\n",
    "## Tabela da rede com pagamentos autorizados\n",
    "rede_autorizado = tabela_rede_retentativa['payment_authorized']==1\n",
    "tabela_rede_autorizado = tabela_rede_retentativa[rede_autorizado]\n",
    "tabela_rede_autorizado.index = pd.RangeIndex(start=0, stop=len(tabela_rede_autorizado), step=1)\n",
    "\n",
    "## Iteração para somatoria do total de pagamento por transação autorizado e NÃO autorizada, pela pagseguro, para cada retentativa\n",
    "total_rede_retentativa =[]\n",
    "\n",
    "for i in range(len(retentativas_df)):\n",
    "  soma = 0\n",
    "\n",
    "  for j in range(len(tabela_rede_retentativa)):\n",
    "    if tabela_rede_retentativa['payment_attempt'][j] == retentativas_df['Retentativas'][i]:\n",
    "      soma += tabela_rede_retentativa['payment_amount'][j]\n",
    "    else:\n",
    "      pass\n",
    "  total_rede_retentativa.append(soma)\n",
    "rede_ret = pd.DataFrame(total_rede_retentativa, columns=['rede'])\n",
    "\n",
    "## Iteração para somatoria do total de pagamento por transação autorizado, pela pagseguro, para cada retentativa\n",
    "total_rede_autorizada_retentativa = []\n",
    "\n",
    "for i in range(len(retentativas_df)):\n",
    "  soma = 0\n",
    "  for j in range(len(tabela_rede_autorizado)):\n",
    "    if tabela_rede_autorizado['payment_attempt'][j] == retentativas_df['Retentativas'][i]:\n",
    "      soma += tabela_rede_autorizado['payment_amount'][j]\n",
    "    else:\n",
    "      pass\n",
    "  total_rede_autorizada_retentativa.append(soma)\n",
    "rede_auto_ret = pd.DataFrame(total_rede_autorizada_retentativa, columns=['rede_autorizada'])"
   ]
  },
  {
   "cell_type": "code",
   "execution_count": null,
   "metadata": {
    "id": "CYQ0tR-hura9"
   },
   "outputs": [],
   "source": [
    "######## CIELO\n",
    "\n",
    "## Tabela da cielo\n",
    "cielo = tabela_data_pagamento['payment_processor']=='cielo'\n",
    "tabela_cielo = tabela_data_pagamento[cielo]\n",
    "tabela_cielo_retentativa = tabela_cielo[tabela_cielo.payment_attempt > 1]\n",
    "tabela_cielo_retentativa.index = pd.RangeIndex(start=0, stop=len(tabela_cielo_retentativa), step=1)\n",
    "\n",
    "## Tabela da rede com pagamentos autorizados\n",
    "cielo_autorizado = tabela_cielo_retentativa['payment_authorized']==1\n",
    "tabela_cielo_autorizado = tabela_cielo_retentativa[cielo_autorizado]\n",
    "tabela_cielo_autorizado.index = pd.RangeIndex(start=0, stop=len(tabela_cielo_autorizado), step=1)\n",
    "\n",
    "## Iteração para somatoria do total de pagamento por transação autorizado e NÃO autorizada, pela pagseguro, para cada retentativa\n",
    "total_cielo_retentativa =[]\n",
    "\n",
    "for i in range(len(retentativas_df)):\n",
    "  soma = 0\n",
    "\n",
    "  for j in range(len(tabela_cielo_retentativa)):\n",
    "    if tabela_cielo_retentativa['payment_attempt'][j] == retentativas_df['Retentativas'][i]:\n",
    "      soma += tabela_cielo_retentativa['payment_amount'][j]\n",
    "    else:\n",
    "      pass\n",
    "  total_cielo_retentativa.append(soma)\n",
    "cielo_ret = pd.DataFrame(total_cielo_retentativa, columns=['cielo'])\n",
    "\n",
    "## Iteração para somatoria do total de pagamento por transaçãovou  autorizado, pela pagseguro, para cada retentativa\n",
    "total_cielo_autorizada_retentativa = []\n",
    "\n",
    "for i in range(len(retentativas_df)):\n",
    "  soma = 0\n",
    "\n",
    "  for j in range(len(tabela_cielo_autorizado)):\n",
    "    if tabela_cielo_autorizado['payment_attempt'][j] == retentativas_df['Retentativas'][i]:\n",
    "      soma += tabela_cielo_autorizado['payment_amount'][j]\n",
    "    else:\n",
    "      pass\n",
    "  total_cielo_autorizada_retentativa.append(soma)\n",
    "cielo_auto_ret = pd.DataFrame(total_cielo_autorizada_retentativa, columns=['cielo_autorizada'])"
   ]
  },
  {
   "cell_type": "code",
   "execution_count": null,
   "metadata": {
    "id": "lDCaH1ntk81m"
   },
   "outputs": [],
   "source": [
    "######## ADYEN\n",
    "\n",
    "## Tabela da adyen\n",
    "adyen = tabela_data_pagamento['payment_processor']=='adyen'\n",
    "tabela_adyen = tabela_data_pagamento[adyen]\n",
    "tabela_adyen_retentativa = tabela_adyen[tabela_adyen.payment_attempt > 1]\n",
    "tabela_adyen_retentativa.index = pd.RangeIndex(start=0, stop=len(tabela_adyen_retentativa), step=1)\n",
    "\n",
    "## Tabela da adyen com pagamentos autorizados\n",
    "adyen_autorizado = tabela_adyen_retentativa['payment_authorized']==1\n",
    "tabela_adyen_autorizado = tabela_adyen_retentativa[adyen_autorizado]\n",
    "tabela_adyen_autorizado.index = pd.RangeIndex(start=0, stop=len(tabela_adyen_autorizado), step=1)\n",
    "\n",
    "## Iteração para somatoria do total de pagamento por transação autorizado e NÃO autorizada, pela pagseguro, para cada retentativa\n",
    "total_adyen_retentativa =[]\n",
    "\n",
    "for i in range(len(retentativas_df)):\n",
    "  soma = 0\n",
    "  for j in range(len(tabela_adyen_retentativa)):\n",
    "    if tabela_adyen_retentativa['payment_attempt'][j] == retentativas_df['Retentativas'][i]:\n",
    "      soma += tabela_adyen_retentativa['payment_amount'][j]\n",
    "    else:\n",
    "      pass\n",
    "  total_adyen_retentativa.append(soma)\n",
    "adyen_ret = pd.DataFrame(total_adyen_retentativa, columns=['adyen'])\n",
    "\n",
    "## Iteração para somatoria do total de pagamento por transaçãovou  autorizado, pela pagseguro, para cada retentativa\n",
    "total_adyen_autorizada_retentativa = []\n",
    "\n",
    "for i in range(len(retentativas_df)):\n",
    "  soma = 0\n",
    "  for j in range(len(tabela_adyen_autorizado)):\n",
    "    if tabela_adyen_autorizado['payment_attempt'][j] == retentativas_df['Retentativas'][i]:\n",
    "      soma += tabela_adyen_autorizado['payment_amount'][j]\n",
    "    else:\n",
    "      pass\n",
    "  total_adyen_autorizada_retentativa.append(soma)\n",
    "adyen_auto_ret = pd.DataFrame(total_adyen_autorizada_retentativa, columns=['adyen_autorizada'])"
   ]
  },
  {
   "cell_type": "code",
   "execution_count": null,
   "metadata": {
    "id": "V1TD62Uboqhn"
   },
   "outputs": [],
   "source": [
    "## Conversão\n",
    "conversao_ret_proc = retentativas_df.copy()\n",
    "conversao_ret_proc['pagseguro'] = (ps_auto_ret['ps_autorizada']/ps_ret['ps'])*100\n",
    "conversao_ret_proc['cielo'] = (cielo_auto_ret['cielo_autorizada']/cielo_ret['cielo'])*100\n",
    "conversao_ret_proc['rede'] = (rede_auto_ret['rede_autorizada']/rede_ret['rede'])*100\n",
    "conversao_ret_proc['adyen'] = (adyen_auto_ret['adyen_autorizada']/adyen_ret['adyen'])*100\n",
    "conversao_ret_proc_final = conversao_ret_proc.copy()\n",
    "conversao_ret_proc_final = conversao_ret_proc_final.set_index(['Retentativas'])\n",
    "conv_proc_max = max(conversao_ret_proc_final)\n",
    "conv_ret_max = conversao_ret_proc_final.idxmax(axis='index')"
   ]
  },
  {
   "cell_type": "code",
   "execution_count": null,
   "metadata": {
    "colab": {
     "base_uri": "https://localhost:8080/"
    },
    "id": "z_Ag-xG72LwT",
    "outputId": "a70fc51c-086c-4025-a8a2-1a81be5301ea"
   },
   "outputs": [],
   "source": [
    "print('A processadora que mais converteu foi a ', conv_proc_max, ' na retentativa número ', conv_ret_max[conv_proc_max])\n",
    "print('\\n')\n",
    "print(conversao_ret_proc_final)"
   ]
  },
  {
   "cell_type": "markdown",
   "metadata": {
    "id": "PvVoiFYsk-To"
   },
   "source": [
    "# Problema 6\n",
    "\n",
    "Qual foi o payment_code com maior aprovação em retentativas (payment_atttempt > 0)\n",
    "[0 1 AC BC EE]"
   ]
  },
  {
   "cell_type": "code",
   "execution_count": null,
   "metadata": {
    "colab": {
     "base_uri": "https://localhost:8080/"
    },
    "id": "zGgnSA34k_zW",
    "outputId": "a3be7fbf-203b-4c01-a089-4686ce0c82fb"
   },
   "outputs": [],
   "source": [
    "## Tabelas RETENTATIVAS\n",
    "tabela_retentativa = tabela_data_pagamento[tabela_data_pagamento.payment_attempt > 0]\n",
    "tabela_retentativa.index = pd.RangeIndex(start=0, stop=len(tabela_retentativa), step=1)\n",
    "retentativa_autorizada = tabela_retentativa['payment_authorized']==1\n",
    "tabela_retentativa_autorizado = tabela_retentativa[retentativa_autorizada]\n",
    "tabela_retentativa_autorizado.index = pd.RangeIndex(start=0, stop=len(tabela_retentativa_autorizado), step=1)\n",
    "\n",
    "## Códigos de pagamento\n",
    "pay_code = tabela_retentativa['payment_code'].unique()\n",
    "pay_code_df = pd.DataFrame(pay_code, columns=['payment_code'])\n",
    "pay_code_df.index = pd.RangeIndex(start=0, stop=len(pay_code_df), step=1)\n",
    "\n",
    "## Iteração para somatoria do total de pagamento por mes de retentativas\n",
    "total_por_code =[]\n",
    "\n",
    "for i in range(len(pay_code)):\n",
    "  soma = 0\n",
    "\n",
    "  for j in range(len(tabela_retentativa_autorizado)):\n",
    "    if tabela_retentativa_autorizado['payment_code'][j] == pay_code[i]:\n",
    "      soma += 1\n",
    "\n",
    "    else:\n",
    "      pass\n",
    "  total_por_code.append(soma)\n",
    "\n",
    "total_por_code_df = pd.DataFrame(total_por_code, columns=['numero_de_autorizacoes'])\n",
    "tabela_final_payCode_ret=0\n",
    "tabela_final_payCode_ret = pd.concat([pay_code_df, total_por_code_df],axis=1).set_index(['payment_code'])\n",
    "\n",
    "codigo_max = tabela_final_payCode_ret.idxmax(axis='index')\n",
    "\n",
    "print('O código de pagamento com maior aprovação em retentativas (payment_attempt>0) foi: ', codigo_max[max(tabela_final_payCode_ret)], '\\n')\n",
    "print(tabela_final_payCode_ret)"
   ]
  },
  {
   "cell_type": "markdown",
   "metadata": {
    "id": "pxnZMig3lCrU"
   },
   "source": [
    "# Problema 7\n",
    "\n",
    "Qual foi o payment_code com menor aprovação em retentativas"
   ]
  },
  {
   "cell_type": "code",
   "execution_count": null,
   "metadata": {
    "colab": {
     "base_uri": "https://localhost:8080/"
    },
    "id": "-K2jZQbICfAb",
    "outputId": "f1bdd305-727b-4aea-bd71-daeb0716b5f7"
   },
   "outputs": [],
   "source": [
    "## Tabelas RETENTATIVAS\n",
    "tabela_retentativa = tabela_data_pagamento[tabela_data_pagamento.payment_attempt > 0]\n",
    "tabela_retentativa.index = pd.RangeIndex(start=0, stop=len(tabela_retentativa), step=1)\n",
    "retentativa_n_autorizada = tabela_retentativa['payment_authorized']==0\n",
    "tabela_retentativa_n_autorizado = tabela_retentativa[retentativa_n_autorizada]\n",
    "tabela_retentativa_n_autorizado.index = pd.RangeIndex(start=0, stop=len(tabela_retentativa_n_autorizado), step=1)\n",
    "\n",
    "## Códigos de pagamento\n",
    "pay_code = tabela_retentativa['payment_code'].unique()\n",
    "pay_code_df = pd.DataFrame(pay_code, columns=['payment_code'])\n",
    "pay_code_df.index = pd.RangeIndex(start=0, stop=len(pay_code_df), step=1)\n",
    "\n",
    "## Iteração para somatoria do total de pagamento por mes de retentativas\n",
    "total_por_code =[]\n",
    "\n",
    "for i in range(len(pay_code)):\n",
    "  soma = 0\n",
    "\n",
    "  for j in range(len(tabela_retentativa_n_autorizado)):\n",
    "    if tabela_retentativa_n_autorizado['payment_code'][j] == pay_code[i]:\n",
    "      soma += 1\n",
    "\n",
    "    else:\n",
    "      pass\n",
    "  total_por_code.append(soma)\n",
    "\n",
    "total_por_code_df = pd.DataFrame(total_por_code, columns=['numero_de_n_autorizacoes'])\n",
    "tabela_final_payCode_ret=0\n",
    "tabela_final_payCode_ret = pd.concat([pay_code_df, total_por_code_df],axis=1).set_index(['payment_code'])\n",
    "\n",
    "codigo_max = tabela_final_payCode_ret.idxmax(axis='index')\n",
    "\n",
    "print('O código de pagamento com menor aprovação em retentativas (payment_attempt>0) foi: ', codigo_max[max(tabela_final_payCode_ret)], '\\n')\n",
    "print(tabela_final_payCode_ret)"
   ]
  },
  {
   "cell_type": "markdown",
   "metadata": {
    "id": "foODVEkelG5s"
   },
   "source": [
    "# Problema 8\n",
    "\n",
    "Qual o melhor dia de pagamento por payment_attempt\n",
    "\n",
    "\n",
    "Analisado os números de retentativas, qual é o melhor dia de pagamento por quantidade de retentativas?\n",
    "\n",
    "**pagamentos autorizados**"
   ]
  },
  {
   "cell_type": "code",
   "execution_count": null,
   "metadata": {
    "colab": {
     "base_uri": "https://localhost:8080/"
    },
    "id": "ssUjXn-alHwe",
    "outputId": "4c6f217c-519a-40b5-9570-2f576b8c5a7e"
   },
   "outputs": [],
   "source": [
    "## Tabelas AUTORIZADA\n",
    "# tabela_retentativa = tabela_data_pagamento[tabela_data_pagamento.payment_attempt > 0]\n",
    "# tabela_retentativa.index = pd.RangeIndex(start=0, stop=len(tabela_retentativa), step=1)\n",
    "pagamento_autorizado = tabela_data_pagamento['payment_authorized']==1\n",
    "tabela_autorizado = tabela_data_pagamento[pagamento_autorizado]\n",
    "tabela_autorizado.index = pd.RangeIndex(start=0, stop=len(tabela_autorizado), step=1)\n",
    "\n",
    "## Retentativas\n",
    "retentativas = tabela_autorizado['payment_attempt'].unique()\n",
    "retentativas_df = pd.DataFrame(retentativas, columns=['Retentativas'])\n",
    "retentativas_df.index = pd.RangeIndex(start=0, stop=len(retentativas_df), step=1)\n",
    "#retentativas_df\n",
    "\n",
    "## Contagem de transações autorizados por dia\n",
    "cont_autorizado = tabela_autorizado['payment_date'].value_counts().to_frame(name='cont_autorizado').sort_index()\n",
    "\n",
    "## Vetor dos dias na tabela\n",
    "dia_8 = tabela_autorizado['payment_date'].unique()\n",
    "dia_8_df = pd.DataFrame(dia_8, columns=['dia'])\n",
    "dia_8_df\n",
    "\n",
    "## Contagem de retentativas por dia\n",
    "\n",
    "## Iteração para somatoria do total de pagamento (autorizado + não autorizado)\n",
    "cont_retentativa_por_dia =[]\n",
    "numero_retentativa = []\n",
    "\n",
    "for i in range(len(dia_8)):\n",
    "  soma = 0\n",
    "\n",
    "  for j in range(len(tabela_autorizado)):\n",
    "    if tabela_autorizado['payment_date'][j] == dia_8[i]:\n",
    "      numero_retentativa.append(tabela_autorizado['payment_attempt'][j])\n",
    "\n",
    "    else:\n",
    "      pass\n",
    "  retentativas_por_dia = np.unique(np.array(numero_retentativa))\n",
    "  cont_retentativa_por_dia.append(len(retentativas_por_dia))\n",
    "\n",
    "cont_retentativa_por_dia_df = pd.DataFrame(cont_retentativa_por_dia, columns=['numero_de_retentativas'])\n",
    "\n",
    "tabela_final_8 = cont_autorizado.copy()\n",
    "tabela_final_8['numero_de_retentativas'] = cont_retentativa_por_dia\n",
    "tabela_final_8['pagamento/#_retentativa'] = tabela_final_8['cont_autorizado']/tabela_final_8['numero_de_retentativas']\n",
    "melhor_valor = max(tabela_final_8['pagamento/#_retentativa'])",
    "melhor_dia = tabela_final_8.index[tabela_final_8['pagamento/#_retentativa']==melhor_valor].tolist()",
    "\n",
    "print('O melhor dia de pagamento, por quantidade de retentativas, foi: ', melhor_dia )"
   ]
  }
 ],
 "metadata": {
  "colab": {
   "collapsed_sections": [
    "uXwSvL0yzkzk",
    "QnkbUYcvgxsn",
    "HCGD-q2OkxYf",
    "-oEaXXqgk2q9",
    "bDHsbghIk71Q",
    "PvVoiFYsk-To",
    "pxnZMig3lCrU"
   ],
   "name": "VTetzner_case_maisTodos.ipynb",
   "provenance": []
  },
  "kernelspec": {
   "display_name": "Python 3",
   "language": "python",
   "name": "python3"
  },
  "language_info": {
   "codemirror_mode": {
    "name": "ipython",
    "version": 3
   },
   "file_extension": ".py",
   "mimetype": "text/x-python",
   "name": "python",
   "nbconvert_exporter": "python",
   "pygments_lexer": "ipython3",
   "version": "3.7.10"
  }
 },
 "nbformat": 4,
 "nbformat_minor": 1
}
